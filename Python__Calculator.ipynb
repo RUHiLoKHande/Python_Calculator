{
  "nbformat": 4,
  "nbformat_minor": 0,
  "metadata": {
    "colab": {
      "provenance": [],
      "authorship_tag": "ABX9TyMi4u0jFcwQ0v4yKuyJQr+5",
      "include_colab_link": true
    },
    "kernelspec": {
      "name": "python3",
      "display_name": "Python 3"
    },
    "language_info": {
      "name": "python"
    }
  },
  "cells": [
    {
      "cell_type": "markdown",
      "metadata": {
        "id": "view-in-github",
        "colab_type": "text"
      },
      "source": [
        "<a href=\"https://colab.research.google.com/github/RUHiLoKHande/Python_Calculator/blob/main/Python__Calculator.ipynb\" target=\"_parent\"><img src=\"https://colab.research.google.com/assets/colab-badge.svg\" alt=\"Open In Colab\"/></a>"
      ]
    },
    {
      "cell_type": "code",
      "execution_count": null,
      "metadata": {
        "id": "eLB8RF8d9d8C"
      },
      "outputs": [],
      "source": [
        "def add(x,y):\n",
        "    return x+y\n",
        "def sub(x,y):\n",
        "    return x-y\n",
        "def mul(x,y):\n",
        "    return x*y\n",
        "def div(x,y):\n",
        "    if y==0:\n",
        "        return \"error\"\n",
        "    else:\n",
        "        return x/y\n",
        "def cal():\n",
        "    print(\"Select Operation\")\n",
        "    print(\"1.ADDITION\")\n",
        "    print(\"2.SUBSTRACTION\")\n",
        "    print(\"3.MULTIPLICATION\")\n",
        "    print(\"4.DIVISION\")\n",
        "\n",
        "    while True:\n",
        "        choice=input(\"Enter the Operation number you want to perfrom : \")\n",
        "        if choice in ['1','2','3','4']:\n",
        "            num1=float(input(\"Enter first number\"))\n",
        "            num2=float(input(\"Enter second number\"))\n",
        "\n",
        "            if choice =='1':\n",
        "                print(f\"{num1} + {num2}={add(num1,num2)}\")\n",
        "            elif choice=='2':\n",
        "                print(f\"{num1} - {num2}={sub(num1,num2)}\")\n",
        "            elif choice=='3':\n",
        "                print(f\"{num1} * {num2}={mul(num1,num2)}\")\n",
        "            elif choice=='4':\n",
        "                print(f\"{num1} / {num2}={div(num1,num2)}\")\n",
        "\n",
        "        next_cal=input(\"Do you want to do another calculation : yes/no\")\n",
        "        if next_cal.lower() != 'yes':\n",
        "            break\n",
        "    print(\"Thank You\")\n",
        "cal()"
      ]
    }
  ]
}